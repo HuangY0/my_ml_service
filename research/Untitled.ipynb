{
 "cells": [
  {
   "cell_type": "code",
   "execution_count": 1,
   "id": "a3f069ce-9e80-4cf7-8e89-20004813ed84",
   "metadata": {},
   "outputs": [],
   "source": [
    "import json # will be needed for saving preprocessing details\n",
    "import numpy as np # for data manipulation\n",
    "import pandas as pd # for data manipulation\n",
    "from sklearn.model_selection import train_test_split # will be used for data split\n",
    "from sklearn.preprocessing import LabelEncoder # for preprocessing\n",
    "from sklearn.ensemble import RandomForestClassifier # for training the algorithm\n",
    "from sklearn.ensemble import ExtraTreesClassifier # for training the algorithm\n",
    "import joblib # for saving algorithm and preprocessing objects"
   ]
  },
  {
   "cell_type": "code",
   "execution_count": null,
   "id": "c369862d-c0f4-4260-8f3f-ba66b4bbda11",
   "metadata": {},
   "outputs": [],
   "source": [
    "# load dataset\n",
    "df = pd.read_csv('https://raw.githubusercontent.com/pplonski/datasets-for-start/master/adult/data.csv', skipinitialspace=True)\n",
    "x_cols = [c for c in df.columns if c != 'income']\n",
    "# set input matrix and target column\n",
    "X = df[x_cols]\n",
    "y = df['income']\n",
    "# show first rows of data\n",
    "df.head()"
   ]
  },
  {
   "cell_type": "code",
   "execution_count": null,
   "id": "6460fbab-da1d-4bfd-88b0-240c6e138550",
   "metadata": {},
   "outputs": [],
   "source": [
    "# data split train / test\n",
    "X_train, X_test, y_train, y_test = train_test_split(X, y, test_size = 0.3, random_state=1234)"
   ]
  },
  {
   "cell_type": "code",
   "execution_count": null,
   "id": "0645713c-6db4-41a4-9313-e6e1bb8ac5c1",
   "metadata": {},
   "outputs": [],
   "source": [
    "# fill missing values\n",
    "train_mode = dict(X_train.mode().iloc[0])\n",
    "X_train = X_train.fillna(train_mode)\n",
    "print(train_mode)"
   ]
  },
  {
   "cell_type": "code",
   "execution_count": null,
   "id": "faec157c-1558-4ba6-b311-988c077ae3d3",
   "metadata": {},
   "outputs": [],
   "source": [
    "{'age': 31.0,\n",
    " 'workclass': 3.0,\n",
    " 'fnlwgt': 121124.0,\n",
    " 'education': 11.0,\n",
    " 'education-num': 9.0,\n",
    " 'marital-status': 2.0,\n",
    " 'occupation': 9.0,\n",
    " 'relationship': 0.0,\n",
    " 'race': 4.0,\n",
    " 'sex': 1.0,\n",
    " 'capital-gain': 0.0,\n",
    " 'capital-loss': 0.0,\n",
    " 'hours-per-week': 40.0,\n",
    " 'native-country': 37.0}"
   ]
  },
  {
   "cell_type": "code",
   "execution_count": null,
   "id": "6814fed3-0673-493c-9ccb-d022637c7dec",
   "metadata": {},
   "outputs": [],
   "source": [
    "# convert categoricals\n",
    "encoders = {}\n",
    "for column in ['workclass', 'education', 'marital-status',\n",
    "                'occupation', 'relationship', 'race',\n",
    "                'sex','native-country']:\n",
    "    categorical_convert = LabelEncoder()\n",
    "    X_train[column] = categorical_convert.fit_transform(X_train[column])\n",
    "    encoders[column] = categorical_convert"
   ]
  },
  {
   "cell_type": "code",
   "execution_count": null,
   "id": "dc9608d3-6a94-4915-bfa5-492318d95586",
   "metadata": {},
   "outputs": [],
   "source": [
    "# train the Random Forest algorithm\n",
    "rf = RandomForestClassifier(n_estimators = 100)\n",
    "rf = rf.fit(X_train, y_train)"
   ]
  },
  {
   "cell_type": "code",
   "execution_count": null,
   "id": "47dc3c9a-c4a0-4df7-a270-e5bb3ff94db7",
   "metadata": {},
   "outputs": [],
   "source": [
    "# train the Extra Trees algorithm\n",
    "et = ExtraTreesClassifier(n_estimators = 100)\n",
    "et = et.fit(X_train, y_train)"
   ]
  },
  {
   "cell_type": "code",
   "execution_count": null,
   "id": "bc3d6f88-0f79-42ba-8ad5-dd475d2e4e22",
   "metadata": {},
   "outputs": [],
   "source": [
    "# save preprocessing objects and RF algorithm\n",
    "joblib.dump(train_mode, \"./train_mode.joblib\", compress=True)\n",
    "joblib.dump(encoders, \"./encoders.joblib\", compress=True)\n",
    "joblib.dump(rf, \"./random_forest.joblib\", compress=True)\n",
    "joblib.dump(et, \"./extra_trees.joblib\", compress=True)"
   ]
  },
  {
   "cell_type": "code",
   "execution_count": null,
   "id": "92a22a5d-5803-4972-976a-fbc293f6d6bf",
   "metadata": {},
   "outputs": [],
   "source": []
  }
 ],
 "metadata": {
  "kernelspec": {
   "display_name": "venv",
   "language": "python",
   "name": "venv"
  },
  "language_info": {
   "codemirror_mode": {
    "name": "ipython",
    "version": 3
   },
   "file_extension": ".py",
   "mimetype": "text/x-python",
   "name": "python",
   "nbconvert_exporter": "python",
   "pygments_lexer": "ipython3",
   "version": "3.9.12"
  }
 },
 "nbformat": 4,
 "nbformat_minor": 5
}
